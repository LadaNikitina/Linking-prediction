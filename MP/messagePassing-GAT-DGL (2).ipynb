{
 "cells": [
  {
   "cell_type": "markdown",
   "id": "726baddc",
   "metadata": {},
   "source": [
    "# Dialogue Graph Auto Construction based on data with a regular structure\n"
   ]
  },
  {
   "cell_type": "markdown",
   "id": "af22fcd1",
   "metadata": {},
   "source": [
    "Goal: Extract regular structures from the data by building a dialogue graph\n",
    "    \n",
    "Tasks: \n",
    "* Cluster dialog data using embeddings of pre-trained models (BERT, ConveRT, S-BERT…)\n",
    "* Evaluate the quality of clustering using intent’s labeling of Multi-WoZ dataset \n",
    "* Linking clusters of dialogs using naive approaches (Estimation of Probabilities by Frequency Models)\n",
    "* Try other approaches (Deep Neural Networks) for linking clusters and improve the naive approach\n"
   ]
  },
  {
   "cell_type": "code",
   "execution_count": 1,
   "id": "a72eb4a5",
   "metadata": {},
   "outputs": [
    {
     "name": "stderr",
     "output_type": "stream",
     "text": [
      "2023-02-23 22:55:13.444462: I tensorflow/core/platform/cpu_feature_guard.cc:193] This TensorFlow binary is optimized with oneAPI Deep Neural Network Library (oneDNN) to use the following CPU instructions in performance-critical operations:  AVX2 FMA\n",
      "To enable them in other operations, rebuild TensorFlow with the appropriate compiler flags.\n",
      "2023-02-23 22:55:14.658916: W tensorflow/compiler/xla/stream_executor/platform/default/dso_loader.cc:64] Could not load dynamic library 'libnvinfer.so.7'; dlerror: libnvinfer.so.7: cannot open shared object file: No such file or directory\n",
      "2023-02-23 22:55:14.659055: W tensorflow/compiler/xla/stream_executor/platform/default/dso_loader.cc:64] Could not load dynamic library 'libnvinfer_plugin.so.7'; dlerror: libnvinfer_plugin.so.7: cannot open shared object file: No such file or directory\n",
      "2023-02-23 22:55:14.659067: W tensorflow/compiler/tf2tensorrt/utils/py_utils.cc:38] TF-TRT Warning: Cannot dlopen some TensorRT libraries. If you would like to use Nvidia GPU with TensorRT, please make sure the missing libraries mentioned above are installed properly.\n"
     ]
    }
   ],
   "source": [
    "from datasets import load_dataset\n",
    "from sklearn.cluster import KMeans\n",
    "from sklearn.decomposition import PCA\n",
    "from collections import Counter\n",
    "from torch import nn\n",
    "from torch_geometric.data import Data\n",
    "from torch_scatter import scatter_add\n",
    "from torch_geometric.nn import MessagePassing\n",
    "from torch.nn import Linear\n",
    "from torch_geometric.nn import GCNConv\n",
    "from dgl.dataloading import GraphDataLoader\n",
    "from torch.utils.data import DataLoader\n",
    "from tqdm import tqdm\n",
    "\n",
    "import pandas as pd\n",
    "import numpy as np\n",
    "import networkx as nx\n",
    "import sys\n",
    "import os\n",
    "import torch\n",
    "import math\n",
    "import tensorflow as tf\n",
    "import random\n",
    "import dgl\n",
    "import torch.nn.functional as F\n",
    "import dgl.nn.pytorch as dglnn\n",
    "import torch.nn as nn\n",
    "\n",
    "sys.path.insert(1, '/cephfs/home/ledneva/final_work/common_utils/')\n",
    "from preprocess import Clusters, get_accuracy_k, get_all_accuracy_k, get_all_accuracy_printer"
   ]
  },
  {
   "cell_type": "code",
   "execution_count": 2,
   "id": "88ead781",
   "metadata": {},
   "outputs": [
    {
     "name": "stdout",
     "output_type": "stream",
     "text": [
      "4\n"
     ]
    }
   ],
   "source": [
    "os.environ[\"CUDA_DEVICE_ORDER\"]=\"PCI_BUS_ID\"\n",
    "os.environ[\"CUDA_VISIBLE_DEVICES\"]=\"0,1,2,3\"\n",
    "print(torch.cuda.device_count())"
   ]
  },
  {
   "cell_type": "code",
   "execution_count": 3,
   "id": "13f64c28",
   "metadata": {},
   "outputs": [
    {
     "name": "stderr",
     "output_type": "stream",
     "text": [
      "\u001b[34m\u001b[1mwandb\u001b[0m: Currently logged in as: \u001b[33mladanik\u001b[0m (\u001b[33mladanik13\u001b[0m). Use \u001b[1m`wandb login --relogin`\u001b[0m to force relogin\n"
     ]
    },
    {
     "data": {
      "text/html": [
       "wandb version 0.13.10 is available!  To upgrade, please run:\n",
       " $ pip install wandb --upgrade"
      ],
      "text/plain": [
       "<IPython.core.display.HTML object>"
      ]
     },
     "metadata": {},
     "output_type": "display_data"
    },
    {
     "data": {
      "text/html": [
       "Tracking run with wandb version 0.13.9"
      ],
      "text/plain": [
       "<IPython.core.display.HTML object>"
      ]
     },
     "metadata": {},
     "output_type": "display_data"
    },
    {
     "data": {
      "text/html": [
       "Run data is saved locally in <code>/cephfs/home/ledneva/final_work/MP_best/wandb/run-20230223_225518-7bw6ceio</code>"
      ],
      "text/plain": [
       "<IPython.core.display.HTML object>"
      ]
     },
     "metadata": {},
     "output_type": "display_data"
    },
    {
     "data": {
      "text/html": [
       "Syncing run <strong><a href=\"https://wandb.ai/ladanik13/MP-tuning/runs/7bw6ceio\" target=\"_blank\">swift-grass-27</a></strong> to <a href=\"https://wandb.ai/ladanik13/MP-tuning\" target=\"_blank\">Weights & Biases</a> (<a href=\"https://wandb.me/run\" target=\"_blank\">docs</a>)<br/>"
      ],
      "text/plain": [
       "<IPython.core.display.HTML object>"
      ]
     },
     "metadata": {},
     "output_type": "display_data"
    },
    {
     "data": {
      "text/html": [
       " View project at <a href=\"https://wandb.ai/ladanik13/MP-tuning\" target=\"_blank\">https://wandb.ai/ladanik13/MP-tuning</a>"
      ],
      "text/plain": [
       "<IPython.core.display.HTML object>"
      ]
     },
     "metadata": {},
     "output_type": "display_data"
    },
    {
     "data": {
      "text/html": [
       " View run at <a href=\"https://wandb.ai/ladanik13/MP-tuning/runs/7bw6ceio\" target=\"_blank\">https://wandb.ai/ladanik13/MP-tuning/runs/7bw6ceio</a>"
      ],
      "text/plain": [
       "<IPython.core.display.HTML object>"
      ]
     },
     "metadata": {},
     "output_type": "display_data"
    },
    {
     "data": {
      "text/html": [
       "<button onClick=\"this.nextSibling.style.display='block';this.style.display='none';\">Display W&B run</button><iframe src=\"https://wandb.ai/ladanik13/MP-tuning/runs/7bw6ceio?jupyter=true\" style=\"border:none;width:100%;height:420px;display:none;\"></iframe>"
      ],
      "text/plain": [
       "<wandb.sdk.wandb_run.Run at 0x7f17a5451a00>"
      ]
     },
     "execution_count": 3,
     "metadata": {},
     "output_type": "execute_result"
    }
   ],
   "source": [
    "import wandb\n",
    "wandb.init(project=\"MP-tuning\")"
   ]
  },
  {
   "cell_type": "code",
   "execution_count": 4,
   "id": "0f5f478a",
   "metadata": {},
   "outputs": [],
   "source": [
    "from data_function_uttr_embs import get_data\n",
    "from GAT_functions_uttr_embs import get_data_dgl_no_cycles\n",
    "from early_stopping_tools import LRScheduler, EarlyStopping"
   ]
  },
  {
   "cell_type": "code",
   "execution_count": 5,
   "id": "0bdc5aa7",
   "metadata": {},
   "outputs": [],
   "source": [
    "first_num_clusters = 400\n",
    "second_num_clusters = 60"
   ]
  },
  {
   "cell_type": "code",
   "execution_count": 6,
   "id": "f33449ca",
   "metadata": {},
   "outputs": [
    {
     "name": "stdout",
     "output_type": "stream",
     "text": [
      "The data is loading...\n"
     ]
    },
    {
     "name": "stderr",
     "output_type": "stream",
     "text": [
      "No config specified, defaulting to: multi_woz_v22/v2.2_active_only\n",
      "Found cached dataset multi_woz_v22 (/home/ledneva/.cache/huggingface/datasets/multi_woz_v22/v2.2_active_only/2.2.0/6719c8b21478299411a0c6fdb7137c3ebab2e6425129af831687fb7851c69eb5)\n"
     ]
    },
    {
     "data": {
      "application/vnd.jupyter.widget-view+json": {
       "model_id": "afb62473de2645c1955a7bd4a0939bb6",
       "version_major": 2,
       "version_minor": 0
      },
      "text/plain": [
       "  0%|          | 0/3 [00:00<?, ?it/s]"
      ]
     },
     "metadata": {},
     "output_type": "display_data"
    },
    {
     "name": "stdout",
     "output_type": "stream",
     "text": [
      "The embeddings are loading...\n",
      "The first stage of clustering has begun...\n",
      "The second stage of clustering has begun...\n",
      "The searching clusters for test and validation has begun...\n",
      "Intent metric conveRT-one-prev, 60 two-stage clusters,                 user: 0.7291723035160729\n",
      "Intent metric conveRT-one-prev, 60 two-stage clusters,                 system: 0.7407125368469983\n"
     ]
    }
   ],
   "source": [
    "embs_path = \"/cephfs/home/ledneva/final_work/convert_one_prev_embeddings.csv\"\n",
    "clusters = Clusters(first_num_clusters, second_num_clusters, embs_path)\n",
    "clusters.form_clusters()"
   ]
  },
  {
   "cell_type": "code",
   "execution_count": 9,
   "id": "32905eb6",
   "metadata": {},
   "outputs": [],
   "source": [
    "# counting unique intents\n",
    "unique_intent = []\n",
    "\n",
    "for intents in clusters.user_train_df['intent']:\n",
    "    unique_intent += intents\n",
    "for intents in clusters.system_train_df['intent']:\n",
    "    unique_intent += intents\n",
    "\n",
    "unique_intent = list(set(unique_intent))  \n",
    "num_intents = len(unique_intent)\n",
    "all_intents = []\n",
    "\n",
    "for i in range(second_num_clusters):\n",
    "    cluster = clusters.train_user_df[clusters.train_user_df['cluster'] == i]\n",
    "\n",
    "    intents = []\n",
    "    for intent_arr in cluster['intent']:\n",
    "        intents += intent_arr\n",
    "\n",
    "    intent_count = np.zeros(num_intents)\n",
    "    for j, intent in enumerate(unique_intent):\n",
    "        intent_count[j] = intents.count(intent)\n",
    "    all_intents.append(np.array(intent_count) / sum(intent_count))\n",
    "\n",
    "for i in range(second_num_clusters):\n",
    "    cluster = clusters.train_system_df[clusters.train_system_df['cluster'] == i]\n",
    "\n",
    "    intents = []\n",
    "    for intent_arr in cluster['intent']:\n",
    "        intents += intent_arr\n",
    "\n",
    "    intent_count = np.zeros(num_intents)\n",
    "    for j, intent in enumerate(unique_intent):\n",
    "        intent_count[j] = intents.count(intent)\n",
    "    all_intents.append(np.array(intent_count) / sum(intent_count))"
   ]
  },
  {
   "cell_type": "markdown",
   "id": "ca206193",
   "metadata": {},
   "source": [
    "## 4.3 Functions"
   ]
  },
  {
   "cell_type": "markdown",
   "id": "d8fe0e1d",
   "metadata": {},
   "source": [
    "Functions generating butches for two types of graphs and metric function"
   ]
  },
  {
   "cell_type": "code",
   "execution_count": 10,
   "id": "8e7a2a3e",
   "metadata": {},
   "outputs": [],
   "source": [
    "device = torch.device('cuda:2')"
   ]
  },
  {
   "cell_type": "code",
   "execution_count": 11,
   "id": "cb87383b",
   "metadata": {},
   "outputs": [],
   "source": [
    "top_k = 15\n",
    "batch_size = 256"
   ]
  },
  {
   "cell_type": "markdown",
   "id": "2bbc95d7",
   "metadata": {},
   "source": [
    "## 4.4 Preprocessing data"
   ]
  },
  {
   "cell_type": "markdown",
   "id": "21e8091c",
   "metadata": {},
   "source": [
    "Data generation and preparation"
   ]
  },
  {
   "cell_type": "code",
   "execution_count": 12,
   "id": "70a61a53",
   "metadata": {},
   "outputs": [],
   "source": [
    "user_train_x, user_train_y, sys_train_x, sys_train_y = get_data(clusters.train_dataset, \n",
    "                                                                top_k, second_num_clusters, \n",
    "                                                                clusters.train_user_df, \n",
    "                                                                clusters.train_system_df,\n",
    "                                                                np.array(clusters.train_user_embs),\n",
    "                                                                np.array(clusters.train_system_embs))\n",
    "user_test_x, user_test_y, sys_test_x, sys_test_y = get_data(clusters.test_dataset, \n",
    "                                                            top_k, second_num_clusters,\n",
    "                                                            clusters.test_user_df,\n",
    "                                                            clusters.test_system_df,\n",
    "                                                            np.array(clusters.test_user_embs),\n",
    "                                                            np.array(clusters.test_system_embs))\n",
    "user_valid_x, user_valid_y, sys_valid_x, sys_valid_y = get_data(clusters.validation_dataset, \n",
    "                                                                top_k, second_num_clusters,\n",
    "                                                                clusters.valid_user_df, \n",
    "                                                                clusters.valid_system_df,\n",
    "                                                                np.array(clusters.valid_user_embs),\n",
    "                                                                np.array(clusters.valid_system_embs))"
   ]
  },
  {
   "cell_type": "code",
   "execution_count": 13,
   "id": "09306168",
   "metadata": {},
   "outputs": [],
   "source": [
    "user_train_data = get_data_dgl_no_cycles(user_train_x, user_train_y, 1, top_k, batch_size)"
   ]
  },
  {
   "cell_type": "code",
   "execution_count": 14,
   "id": "ac5ee3fc",
   "metadata": {},
   "outputs": [],
   "source": [
    "sys_train_data = get_data_dgl_no_cycles(sys_train_x, sys_train_y, 1, top_k, batch_size)"
   ]
  },
  {
   "cell_type": "code",
   "execution_count": 15,
   "id": "90a3099d",
   "metadata": {},
   "outputs": [],
   "source": [
    "user_test_data = get_data_dgl_no_cycles(user_test_x, user_test_y, 0, top_k, batch_size)"
   ]
  },
  {
   "cell_type": "code",
   "execution_count": 16,
   "id": "d95c0d6b",
   "metadata": {},
   "outputs": [],
   "source": [
    "sys_test_data = get_data_dgl_no_cycles(sys_test_x, sys_test_y, 0, top_k, batch_size)"
   ]
  },
  {
   "cell_type": "code",
   "execution_count": 17,
   "id": "af0e6ba6",
   "metadata": {},
   "outputs": [],
   "source": [
    "user_valid_data = get_data_dgl_no_cycles(user_valid_x, user_valid_y, 1, top_k, batch_size)"
   ]
  },
  {
   "cell_type": "code",
   "execution_count": 18,
   "id": "b303b3bd",
   "metadata": {},
   "outputs": [],
   "source": [
    "sys_valid_data = get_data_dgl_no_cycles(sys_valid_x, sys_valid_y, 1, top_k, batch_size)"
   ]
  },
  {
   "cell_type": "code",
   "execution_count": 19,
   "id": "e65e063a",
   "metadata": {},
   "outputs": [],
   "source": [
    "# обучаемые веса для суммирования\n",
    "linear_weights = np.zeros(top_k)\n",
    "linear_weights[...] = 1 / top_k\n",
    "linear_weights = torch.tensor(linear_weights).view(1, -1)\n",
    "linear_weights = linear_weights.to(device)"
   ]
  },
  {
   "cell_type": "code",
   "execution_count": 20,
   "id": "6e5adef4",
   "metadata": {},
   "outputs": [],
   "source": [
    "intent_embs_dim = len(all_intents[0])\n",
    "centre_embs_dim = len(clusters.user_cluster_embs[0])"
   ]
  },
  {
   "cell_type": "code",
   "execution_count": 21,
   "id": "aeb34616",
   "metadata": {},
   "outputs": [],
   "source": [
    "num_comps = 512"
   ]
  },
  {
   "cell_type": "code",
   "execution_count": 22,
   "id": "f9cbd199",
   "metadata": {},
   "outputs": [],
   "source": [
    "learn_embs_dim = num_comps\n",
    "learn_emb = nn.Parameter(\n",
    "            torch.Tensor(2 * second_num_clusters + 1, learn_embs_dim), requires_grad=False\n",
    ")\n",
    "learn_emb = torch.Tensor(nn.init.xavier_uniform_(learn_emb))\n",
    "# обучаемый эмбеддинг\n",
    "# weights = torch.Tensor(emb)"
   ]
  },
  {
   "cell_type": "code",
   "execution_count": 23,
   "id": "ca9b2933",
   "metadata": {},
   "outputs": [],
   "source": [
    "null_cluster_centre_emb = np.zeros(centre_embs_dim)\n",
    "null_cluster_intent_emb = np.zeros(intent_embs_dim)"
   ]
  },
  {
   "cell_type": "code",
   "execution_count": 24,
   "id": "6a28f801",
   "metadata": {},
   "outputs": [],
   "source": [
    "centre_mass = torch.Tensor(np.concatenate([clusters.user_cluster_embs, \n",
    "                                           clusters.system_cluster_embs, \n",
    "                                           [null_cluster_centre_emb]])).to(device)"
   ]
  },
  {
   "cell_type": "code",
   "execution_count": 25,
   "id": "ae2b7dbb",
   "metadata": {},
   "outputs": [],
   "source": [
    "intent_embs = torch.Tensor(np.concatenate([all_intents, [null_cluster_intent_emb]])).to(device)"
   ]
  },
  {
   "cell_type": "code",
   "execution_count": 26,
   "id": "24348632",
   "metadata": {},
   "outputs": [],
   "source": [
    "# user_cluster_intents, system_cluster_intents - intents\n",
    "# clusters.user_cluster_embs, clusters.system_cluster_embs - center of mass"
   ]
  },
  {
   "cell_type": "markdown",
   "id": "0da0ad83",
   "metadata": {},
   "source": [
    "## 4.5 Prediction of user clusters"
   ]
  },
  {
   "cell_type": "code",
   "execution_count": 27,
   "id": "06d56a6a",
   "metadata": {},
   "outputs": [],
   "source": [
    "hidden_dim = 2048\n",
    "# embs_dim = 512 + len(centre_mass[0]) + learn_embs_dim + len(intent_embs[0])\n",
    "embs_dim = 512\n",
    "num_heads = 2"
   ]
  },
  {
   "cell_type": "code",
   "execution_count": 28,
   "id": "5c4d177a",
   "metadata": {},
   "outputs": [],
   "source": [
    "from dgl import nn as dgl_nn\n",
    "from torch import nn\n",
    "\n",
    "class GAT_user(nn.Module):\n",
    "    def __init__(self, hidden_dim, num_heads):\n",
    "        super(GAT_user, self).__init__()\n",
    "\n",
    "        self.embs = nn.Embedding.from_pretrained(learn_emb).requires_grad_(True)\n",
    "        self.layer1 = dgl_nn.GATv2Conv(embs_dim, hidden_dim, num_heads)\n",
    "        self.layer2 = dgl_nn.GATv2Conv(hidden_dim * num_heads, hidden_dim, num_heads)\n",
    "\n",
    "        self.do1 = nn.Dropout(0.4)\n",
    "        self.do2 = nn.Dropout(0.4)\n",
    "        \n",
    "        self.linear_weights = nn.Embedding.from_pretrained(linear_weights.float()).requires_grad_(True)  \n",
    "        \n",
    "        self.classify = nn.Linear(hidden_dim * num_heads, second_num_clusters)\n",
    "\n",
    "    def forward(self, bg):\n",
    "        x = bg.ndata['attr']\n",
    "        x_emb = bg.ndata['emb']\n",
    "        embeddings = self.embs.weight\n",
    "        all_embs = torch.concat((embeddings, centre_mass, intent_embs), dim = 1)\n",
    "        \n",
    "        get_embs = lambda i: all_embs[i]\n",
    "        node_embs = get_embs(x)\n",
    "        \n",
    "#         result_embs = torch.concat((node_embs, x_emb), dim = 1)\n",
    "        result_embs = x_emb\n",
    "        h = result_embs.to(torch.float32)\n",
    "        \n",
    "        h = self.layer1(bg, h)\n",
    "        h = self.do1(h)\n",
    "        h = torch.reshape(h, (len(h), num_heads * hidden_dim))      \n",
    "        h = self.layer2(bg, h)\n",
    "        h = self.do2(h)\n",
    "\n",
    "        \n",
    "        bg.ndata['h'] = h\n",
    "        h = torch.reshape(h, (len(node_embs) // top_k, top_k, num_heads * hidden_dim))        \n",
    "        linear_weights_1dim = torch.reshape(self.linear_weights.weight, (top_k, ))\n",
    "        get_sum = lambda e: torch.matmul(linear_weights_1dim, e)\n",
    "        h = list(map(get_sum, h))\n",
    "        hg = torch.stack(h)\n",
    "        return self.classify(hg)   "
   ]
  },
  {
   "cell_type": "code",
   "execution_count": 30,
   "id": "d261932a",
   "metadata": {
    "scrolled": true
   },
   "outputs": [
    {
     "name": "stderr",
     "output_type": "stream",
     "text": [
      "222it [00:43,  5.09it/s]\n"
     ]
    },
    {
     "name": "stdout",
     "output_type": "stream",
     "text": [
      "Epoch 0, train loss 3.4972, valid loss 3.2025\n"
     ]
    },
    {
     "name": "stderr",
     "output_type": "stream",
     "text": [
      "222it [00:43,  5.10it/s]\n"
     ]
    },
    {
     "name": "stdout",
     "output_type": "stream",
     "text": [
      "Epoch 1, train loss 2.8418, valid loss 2.6836\n"
     ]
    },
    {
     "name": "stderr",
     "output_type": "stream",
     "text": [
      "222it [00:44,  5.02it/s]\n"
     ]
    },
    {
     "name": "stdout",
     "output_type": "stream",
     "text": [
      "Epoch 2, train loss 2.4429, valid loss 2.3288\n"
     ]
    },
    {
     "name": "stderr",
     "output_type": "stream",
     "text": [
      "222it [00:44,  5.04it/s]\n"
     ]
    },
    {
     "name": "stdout",
     "output_type": "stream",
     "text": [
      "Epoch 3, train loss 2.1993, valid loss 2.1520\n"
     ]
    },
    {
     "name": "stderr",
     "output_type": "stream",
     "text": [
      "222it [00:45,  4.93it/s]\n"
     ]
    },
    {
     "name": "stdout",
     "output_type": "stream",
     "text": [
      "Epoch 4, train loss 2.0834, valid loss 2.0765\n"
     ]
    },
    {
     "name": "stderr",
     "output_type": "stream",
     "text": [
      "222it [00:43,  5.06it/s]\n"
     ]
    },
    {
     "name": "stdout",
     "output_type": "stream",
     "text": [
      "Epoch 5, train loss 2.0142, valid loss 2.0140\n"
     ]
    },
    {
     "name": "stderr",
     "output_type": "stream",
     "text": [
      "222it [00:43,  5.08it/s]\n"
     ]
    },
    {
     "name": "stdout",
     "output_type": "stream",
     "text": [
      "Epoch 6, train loss 1.9679, valid loss 1.9889\n"
     ]
    },
    {
     "name": "stderr",
     "output_type": "stream",
     "text": [
      "222it [00:43,  5.11it/s]\n"
     ]
    },
    {
     "name": "stdout",
     "output_type": "stream",
     "text": [
      "Epoch 7, train loss 1.9351, valid loss 1.9602\n"
     ]
    },
    {
     "name": "stderr",
     "output_type": "stream",
     "text": [
      "222it [00:43,  5.10it/s]\n"
     ]
    },
    {
     "name": "stdout",
     "output_type": "stream",
     "text": [
      "Epoch 8, train loss 1.9084, valid loss 1.9460\n"
     ]
    },
    {
     "name": "stderr",
     "output_type": "stream",
     "text": [
      "222it [00:43,  5.05it/s]\n"
     ]
    },
    {
     "name": "stdout",
     "output_type": "stream",
     "text": [
      "Epoch 9, train loss 1.8900, valid loss 1.9483\n",
      "Early stopping counter 1 of 10\n"
     ]
    },
    {
     "name": "stderr",
     "output_type": "stream",
     "text": [
      "222it [00:43,  5.07it/s]\n"
     ]
    },
    {
     "name": "stdout",
     "output_type": "stream",
     "text": [
      "Epoch 10, train loss 1.8735, valid loss 1.9266\n"
     ]
    },
    {
     "name": "stderr",
     "output_type": "stream",
     "text": [
      "222it [00:43,  5.05it/s]\n"
     ]
    },
    {
     "name": "stdout",
     "output_type": "stream",
     "text": [
      "Epoch 11, train loss 1.8621, valid loss 1.9392\n",
      "Early stopping counter 1 of 10\n"
     ]
    },
    {
     "name": "stderr",
     "output_type": "stream",
     "text": [
      "222it [00:44,  5.03it/s]\n"
     ]
    },
    {
     "name": "stdout",
     "output_type": "stream",
     "text": [
      "Epoch 12, train loss 1.8493, valid loss 1.9153\n"
     ]
    },
    {
     "name": "stderr",
     "output_type": "stream",
     "text": [
      "222it [00:44,  5.03it/s]\n"
     ]
    },
    {
     "name": "stdout",
     "output_type": "stream",
     "text": [
      "Epoch 13, train loss 1.8403, valid loss 1.9118\n"
     ]
    },
    {
     "name": "stderr",
     "output_type": "stream",
     "text": [
      "222it [00:44,  5.00it/s]\n"
     ]
    },
    {
     "name": "stdout",
     "output_type": "stream",
     "text": [
      "Epoch 14, train loss 1.8303, valid loss 1.9145\n",
      "Early stopping counter 1 of 10\n"
     ]
    },
    {
     "name": "stderr",
     "output_type": "stream",
     "text": [
      "222it [00:44,  5.04it/s]\n"
     ]
    },
    {
     "name": "stdout",
     "output_type": "stream",
     "text": [
      "Epoch 15, train loss 1.8208, valid loss 1.9084\n"
     ]
    },
    {
     "name": "stderr",
     "output_type": "stream",
     "text": [
      "222it [00:44,  5.01it/s]\n"
     ]
    },
    {
     "name": "stdout",
     "output_type": "stream",
     "text": [
      "Epoch 16, train loss 1.8124, valid loss 1.9067\n"
     ]
    },
    {
     "name": "stderr",
     "output_type": "stream",
     "text": [
      "222it [00:45,  4.90it/s]\n"
     ]
    },
    {
     "name": "stdout",
     "output_type": "stream",
     "text": [
      "Epoch 17, train loss 1.8038, valid loss 1.9195\n",
      "Early stopping counter 1 of 10\n"
     ]
    },
    {
     "name": "stderr",
     "output_type": "stream",
     "text": [
      "222it [01:00,  3.65it/s]\n"
     ]
    },
    {
     "name": "stdout",
     "output_type": "stream",
     "text": [
      "Epoch 18, train loss 1.7962, valid loss 1.9077\n",
      "Early stopping counter 2 of 10\n"
     ]
    },
    {
     "name": "stderr",
     "output_type": "stream",
     "text": [
      "222it [01:00,  3.66it/s]\n"
     ]
    },
    {
     "name": "stdout",
     "output_type": "stream",
     "text": [
      "Epoch 19, train loss 1.7891, valid loss 1.9066\n",
      "Epoch 00020: reducing learning rate of group 0 to 5.0000e-05.\n",
      "Early stopping counter 3 of 10\n"
     ]
    },
    {
     "name": "stderr",
     "output_type": "stream",
     "text": [
      "222it [01:01,  3.63it/s]\n"
     ]
    },
    {
     "name": "stdout",
     "output_type": "stream",
     "text": [
      "Epoch 20, train loss 1.7737, valid loss 1.9074\n",
      "Early stopping counter 4 of 10\n"
     ]
    },
    {
     "name": "stderr",
     "output_type": "stream",
     "text": [
      "222it [01:00,  3.69it/s]\n"
     ]
    },
    {
     "name": "stdout",
     "output_type": "stream",
     "text": [
      "Epoch 21, train loss 1.7679, valid loss 1.9120\n",
      "Early stopping counter 5 of 10\n"
     ]
    },
    {
     "name": "stderr",
     "output_type": "stream",
     "text": [
      "222it [00:57,  3.83it/s]\n"
     ]
    },
    {
     "name": "stdout",
     "output_type": "stream",
     "text": [
      "Epoch 22, train loss 1.7626, valid loss 1.9043\n"
     ]
    },
    {
     "name": "stderr",
     "output_type": "stream",
     "text": [
      "222it [00:52,  4.20it/s]\n"
     ]
    },
    {
     "name": "stdout",
     "output_type": "stream",
     "text": [
      "Epoch 23, train loss 1.7612, valid loss 1.9082\n",
      "Early stopping counter 1 of 10\n"
     ]
    },
    {
     "name": "stderr",
     "output_type": "stream",
     "text": [
      "222it [00:44,  4.99it/s]\n"
     ]
    },
    {
     "name": "stdout",
     "output_type": "stream",
     "text": [
      "Epoch 24, train loss 1.7564, valid loss 1.9082\n",
      "Early stopping counter 2 of 10\n"
     ]
    },
    {
     "name": "stderr",
     "output_type": "stream",
     "text": [
      "222it [00:44,  4.99it/s]\n"
     ]
    },
    {
     "name": "stdout",
     "output_type": "stream",
     "text": [
      "Epoch 25, train loss 1.7513, valid loss 1.9079\n",
      "Epoch 00026: reducing learning rate of group 0 to 2.5000e-05.\n",
      "Early stopping counter 3 of 10\n"
     ]
    },
    {
     "name": "stderr",
     "output_type": "stream",
     "text": [
      "222it [00:44,  4.96it/s]\n"
     ]
    },
    {
     "name": "stdout",
     "output_type": "stream",
     "text": [
      "Epoch 26, train loss 1.7429, valid loss 1.9091\n",
      "Early stopping counter 4 of 10\n"
     ]
    },
    {
     "name": "stderr",
     "output_type": "stream",
     "text": [
      "222it [00:44,  4.98it/s]\n"
     ]
    },
    {
     "name": "stdout",
     "output_type": "stream",
     "text": [
      "Epoch 27, train loss 1.7407, valid loss 1.9048\n",
      "Early stopping counter 5 of 10\n"
     ]
    },
    {
     "name": "stderr",
     "output_type": "stream",
     "text": [
      "222it [00:44,  4.95it/s]\n"
     ]
    },
    {
     "name": "stdout",
     "output_type": "stream",
     "text": [
      "Epoch 28, train loss 1.7385, valid loss 1.9111\n",
      "Epoch 00029: reducing learning rate of group 0 to 1.2500e-05.\n",
      "Early stopping counter 6 of 10\n"
     ]
    },
    {
     "name": "stderr",
     "output_type": "stream",
     "text": [
      "222it [00:44,  4.94it/s]\n"
     ]
    },
    {
     "name": "stdout",
     "output_type": "stream",
     "text": [
      "Epoch 29, train loss 1.7339, valid loss 1.9078\n",
      "Early stopping counter 7 of 10\n"
     ]
    },
    {
     "name": "stderr",
     "output_type": "stream",
     "text": [
      "222it [00:44,  4.98it/s]\n"
     ]
    },
    {
     "name": "stdout",
     "output_type": "stream",
     "text": [
      "Epoch 30, train loss 1.7321, valid loss 1.9099\n",
      "Early stopping counter 8 of 10\n"
     ]
    },
    {
     "name": "stderr",
     "output_type": "stream",
     "text": [
      "222it [00:44,  4.95it/s]\n"
     ]
    },
    {
     "name": "stdout",
     "output_type": "stream",
     "text": [
      "Epoch 31, train loss 1.7328, valid loss 1.9043\n",
      "Epoch 00032: reducing learning rate of group 0 to 6.2500e-06.\n",
      "Early stopping counter 9 of 10\n"
     ]
    },
    {
     "name": "stderr",
     "output_type": "stream",
     "text": [
      "222it [00:44,  4.94it/s]\n"
     ]
    },
    {
     "name": "stdout",
     "output_type": "stream",
     "text": [
      "Epoch 32, train loss 1.7295, valid loss 1.9114\n",
      "Early stopping counter 10 of 10\n",
      "Early stopping\n"
     ]
    }
   ],
   "source": [
    "user_model = GAT_user(hidden_dim, num_heads).to(device)\n",
    "user_train_epoch_losses = []\n",
    "user_valid_epoch_losses = []\n",
    "\n",
    "for param in user_model.parameters():\n",
    "    param.requires_grad = True\n",
    "    \n",
    "criterion = torch.nn.CrossEntropyLoss()\n",
    "optimizer = torch.optim.Adam(user_model.parameters(), lr = 0.0001)\n",
    "lr_scheduler = LRScheduler(optimizer)\n",
    "early_stopping = EarlyStopping(10)\n",
    "\n",
    "user_num_epochs = 100\n",
    "\n",
    "for epoch in range(user_num_epochs):\n",
    "    train_epoch_loss = 0\n",
    "\n",
    "    for iter, (batched_graph, labels) in tqdm(enumerate(user_train_data)):\n",
    "#         print(f\"{iter} / {len(user_train_data)}\")\n",
    "        out = user_model(batched_graph.to(device))\n",
    "        loss = criterion(out, labels.to(device))\n",
    "        optimizer.zero_grad()\n",
    "\n",
    "        loss.backward() \n",
    "        optimizer.step() \n",
    "        train_epoch_loss += loss.detach().item()\n",
    "        \n",
    "    train_epoch_loss /= (iter + 1)\n",
    "    user_train_epoch_losses.append(train_epoch_loss)\n",
    "    \n",
    "    valid_epoch_loss = 0\n",
    "    with torch.no_grad():\n",
    "        for iter, (batched_graph, labels) in enumerate(user_valid_data):\n",
    "            out = user_model(batched_graph.to(device))\n",
    "            loss = criterion(out, labels.to(device))\n",
    "            valid_epoch_loss += loss.detach().item()\n",
    "\n",
    "        valid_epoch_loss /= (iter + 1)\n",
    "        user_valid_epoch_losses.append(valid_epoch_loss)\n",
    "    print(f'Epoch {epoch}, train loss {train_epoch_loss:.4f}, valid loss {valid_epoch_loss:.4f}')  \n",
    "    wandb.log({'Epoch' : epoch, 'user train loss' : train_epoch_loss, 'user valid loss' : valid_epoch_loss})\n",
    "    \n",
    "    lr_scheduler(valid_epoch_loss)\n",
    "    early_stopping(valid_epoch_loss)\n",
    "    \n",
    "    if early_stopping.early_stop:\n",
    "        break"
   ]
  },
  {
   "cell_type": "code",
   "execution_count": 31,
   "id": "73876cf6",
   "metadata": {},
   "outputs": [
    {
     "data": {
      "text/plain": [
       "<matplotlib.legend.Legend at 0x7f16568ee4c0>"
      ]
     },
     "execution_count": 31,
     "metadata": {},
     "output_type": "execute_result"
    },
    {
     "data": {
      "image/png": "[encoded data removed]",
      "text/plain": [
       "<Figure size 864x432 with 1 Axes>"
      ]
     },
     "metadata": {
      "needs_background": "light"
     },
     "output_type": "display_data"
    }
   ],
   "source": [
    "import matplotlib.pyplot as plt\n",
    "\n",
    "plt.figure(figsize=(12, 6))\n",
    "plt.title('user model cross entropy averaged over minibatches')\n",
    "plt.plot(user_train_epoch_losses, label = \"train\")\n",
    "plt.plot(user_valid_epoch_losses, label = \"valid\")\n",
    "plt.legend()"
   ]
  },
  {
   "cell_type": "code",
   "execution_count": 32,
   "id": "34115eab",
   "metadata": {},
   "outputs": [],
   "source": [
    "user_model.eval()\n",
    "user_test_X, user_test_Y = map(list, zip(*user_test_data))\n",
    "\n",
    "user_probs = []\n",
    "user_test = []\n",
    "\n",
    "for i in range(len(user_test_Y)):\n",
    "    g = user_test_X[i].to(device)\n",
    "    labels = user_test_Y[i]\n",
    "    labels = labels.tolist()\n",
    "    user_test += labels\n",
    "    user_probs_Y = torch.softmax(user_model(g), 1).tolist()\n",
    "    user_probs += user_probs_Y"
   ]
  },
  {
   "cell_type": "code",
   "execution_count": 33,
   "id": "c56ee706",
   "metadata": {},
   "outputs": [
    {
     "name": "stdout",
     "output_type": "stream",
     "text": [
      "USER metric\n",
      "Acc@1: 0.43422832445332443\n",
      "Acc@3: 0.7114723776223777\n",
      "Acc@5: 0.8181893162393162\n",
      "Acc@10: 0.9238690281940283\n"
     ]
    }
   ],
   "source": [
    "print(\"USER metric\")\n",
    "\n",
    "print(\"Acc@1:\", get_accuracy_k(1, clusters.test_user_df, user_probs, clusters.test_dataset, 0))\n",
    "print(\"Acc@3:\", get_accuracy_k(3, clusters.test_user_df, user_probs, clusters.test_dataset, 0))\n",
    "print(\"Acc@5:\", get_accuracy_k(5, clusters.test_user_df, user_probs, clusters.test_dataset, 0))\n",
    "print(\"Acc@10:\", get_accuracy_k(10, clusters.test_user_df, user_probs, clusters.test_dataset, 0))"
   ]
  },
  {
   "cell_type": "markdown",
   "id": "c34ced9e",
   "metadata": {},
   "source": [
    "## 4.6 Prediction of system clusters"
   ]
  },
  {
   "cell_type": "code",
   "execution_count": 36,
   "id": "cb21ecaf",
   "metadata": {},
   "outputs": [],
   "source": [
    "from dgl import nn as dgl_nn\n",
    "from torch import nn\n",
    "\n",
    "class GAT_system(nn.Module):\n",
    "    def __init__(self, hidden_dim, num_heads):\n",
    "        super(GAT_system, self).__init__()\n",
    "\n",
    "        self.embs = nn.Embedding.from_pretrained(learn_emb).requires_grad_(True)\n",
    "        self.layer1 = dgl_nn.GATv2Conv(embs_dim, hidden_dim, num_heads)\n",
    "        self.layer2 = dgl_nn.GATv2Conv(hidden_dim * num_heads, hidden_dim, num_heads)\n",
    "\n",
    "        self.do1 = nn.Dropout(0.4)\n",
    "        self.do2 = nn.Dropout(0.4)\n",
    "\n",
    "        self.linear_weights = nn.Embedding.from_pretrained(linear_weights.float()).requires_grad_(True)  \n",
    "        \n",
    "        self.classify = nn.Linear(hidden_dim * num_heads, second_num_clusters)\n",
    "\n",
    "    def forward(self, bg):\n",
    "        x = bg.ndata['attr']\n",
    "        x_emb = bg.ndata['emb']\n",
    "        embeddings = self.embs.weight\n",
    "        all_embs = torch.concat((embeddings, centre_mass, intent_embs), dim = 1)\n",
    "        \n",
    "        get_embs = lambda i: all_embs[i]\n",
    "        node_embs = get_embs(x)\n",
    "        \n",
    "#         result_embs = torch.concat((node_embs, x_emb), dim = 1)\n",
    "        result_embs = x_emb\n",
    "        h = result_embs.to(torch.float32)\n",
    "        \n",
    "        h = self.layer1(bg, h)\n",
    "        h = self.do1(h)\n",
    "        h = torch.reshape(h, (len(h), num_heads * hidden_dim))      \n",
    "        h = self.layer2(bg, h)\n",
    "        h = self.do2(h)\n",
    "\n",
    "        \n",
    "        bg.ndata['h'] = h\n",
    "        h = torch.reshape(h, (len(node_embs) // top_k, top_k, num_heads * hidden_dim))        \n",
    "        linear_weights_1dim = torch.reshape(self.linear_weights.weight, (top_k, ))\n",
    "        get_sum = lambda e: torch.matmul(linear_weights_1dim, e)\n",
    "        h = list(map(get_sum, h))\n",
    "        hg = torch.stack(h)\n",
    "        return self.classify(hg)   "
   ]
  },
  {
   "cell_type": "code",
   "execution_count": 37,
   "id": "104c1fd5",
   "metadata": {
    "scrolled": true
   },
   "outputs": [
    {
     "name": "stderr",
     "output_type": "stream",
     "text": [
      "222it [00:47,  4.72it/s]\n"
     ]
    },
    {
     "name": "stdout",
     "output_type": "stream",
     "text": [
      "Epoch 0, train loss 3.5192, valid loss 3.2904\n"
     ]
    },
    {
     "name": "stderr",
     "output_type": "stream",
     "text": [
      "222it [00:44,  4.98it/s]\n"
     ]
    },
    {
     "name": "stdout",
     "output_type": "stream",
     "text": [
      "Epoch 1, train loss 2.7656, valid loss 2.6304\n"
     ]
    },
    {
     "name": "stderr",
     "output_type": "stream",
     "text": [
      "222it [00:44,  4.99it/s]\n"
     ]
    },
    {
     "name": "stdout",
     "output_type": "stream",
     "text": [
      "Epoch 2, train loss 2.2025, valid loss 2.1850\n"
     ]
    },
    {
     "name": "stderr",
     "output_type": "stream",
     "text": [
      "222it [00:45,  4.93it/s]\n"
     ]
    },
    {
     "name": "stdout",
     "output_type": "stream",
     "text": [
      "Epoch 3, train loss 1.8834, valid loss 1.9223\n"
     ]
    },
    {
     "name": "stderr",
     "output_type": "stream",
     "text": [
      "222it [00:45,  4.92it/s]\n"
     ]
    },
    {
     "name": "stdout",
     "output_type": "stream",
     "text": [
      "Epoch 4, train loss 1.7068, valid loss 1.7964\n"
     ]
    },
    {
     "name": "stderr",
     "output_type": "stream",
     "text": [
      "222it [00:44,  4.94it/s]\n"
     ]
    },
    {
     "name": "stdout",
     "output_type": "stream",
     "text": [
      "Epoch 5, train loss 1.6121, valid loss 1.7080\n"
     ]
    },
    {
     "name": "stderr",
     "output_type": "stream",
     "text": [
      "222it [00:45,  4.92it/s]\n"
     ]
    },
    {
     "name": "stdout",
     "output_type": "stream",
     "text": [
      "Epoch 6, train loss 1.5539, valid loss 1.6738\n"
     ]
    },
    {
     "name": "stderr",
     "output_type": "stream",
     "text": [
      "222it [00:44,  4.95it/s]\n"
     ]
    },
    {
     "name": "stdout",
     "output_type": "stream",
     "text": [
      "Epoch 7, train loss 1.5148, valid loss 1.6347\n"
     ]
    },
    {
     "name": "stderr",
     "output_type": "stream",
     "text": [
      "222it [00:44,  4.95it/s]\n"
     ]
    },
    {
     "name": "stdout",
     "output_type": "stream",
     "text": [
      "Epoch 8, train loss 1.4845, valid loss 1.6106\n"
     ]
    },
    {
     "name": "stderr",
     "output_type": "stream",
     "text": [
      "222it [00:44,  4.98it/s]\n"
     ]
    },
    {
     "name": "stdout",
     "output_type": "stream",
     "text": [
      "Epoch 9, train loss 1.4602, valid loss 1.5991\n"
     ]
    },
    {
     "name": "stderr",
     "output_type": "stream",
     "text": [
      "222it [00:44,  4.95it/s]\n"
     ]
    },
    {
     "name": "stdout",
     "output_type": "stream",
     "text": [
      "Epoch 10, train loss 1.4394, valid loss 1.6089\n",
      "Early stopping counter 1 of 10\n"
     ]
    },
    {
     "name": "stderr",
     "output_type": "stream",
     "text": [
      "222it [00:44,  4.96it/s]\n"
     ]
    },
    {
     "name": "stdout",
     "output_type": "stream",
     "text": [
      "Epoch 11, train loss 1.4229, valid loss 1.5917\n"
     ]
    },
    {
     "name": "stderr",
     "output_type": "stream",
     "text": [
      "222it [00:45,  4.86it/s]\n"
     ]
    },
    {
     "name": "stdout",
     "output_type": "stream",
     "text": [
      "Epoch 12, train loss 1.4086, valid loss 1.5748\n"
     ]
    },
    {
     "name": "stderr",
     "output_type": "stream",
     "text": [
      "222it [00:46,  4.73it/s]\n"
     ]
    },
    {
     "name": "stdout",
     "output_type": "stream",
     "text": [
      "Epoch 13, train loss 1.3942, valid loss 1.5755\n",
      "Early stopping counter 1 of 10\n"
     ]
    },
    {
     "name": "stderr",
     "output_type": "stream",
     "text": [
      "222it [00:45,  4.85it/s]\n"
     ]
    },
    {
     "name": "stdout",
     "output_type": "stream",
     "text": [
      "Epoch 14, train loss 1.3854, valid loss 1.5745\n"
     ]
    },
    {
     "name": "stderr",
     "output_type": "stream",
     "text": [
      "222it [00:45,  4.83it/s]\n"
     ]
    },
    {
     "name": "stdout",
     "output_type": "stream",
     "text": [
      "Epoch 15, train loss 1.3730, valid loss 1.5598\n"
     ]
    },
    {
     "name": "stderr",
     "output_type": "stream",
     "text": [
      "222it [00:45,  4.84it/s]\n"
     ]
    },
    {
     "name": "stdout",
     "output_type": "stream",
     "text": [
      "Epoch 16, train loss 1.3613, valid loss 1.5629\n",
      "Early stopping counter 1 of 10\n"
     ]
    },
    {
     "name": "stderr",
     "output_type": "stream",
     "text": [
      "222it [00:45,  4.92it/s]\n"
     ]
    },
    {
     "name": "stdout",
     "output_type": "stream",
     "text": [
      "Epoch 17, train loss 1.3526, valid loss 1.5760\n",
      "Early stopping counter 2 of 10\n"
     ]
    },
    {
     "name": "stderr",
     "output_type": "stream",
     "text": [
      "222it [00:44,  4.94it/s]\n"
     ]
    },
    {
     "name": "stdout",
     "output_type": "stream",
     "text": [
      "Epoch 18, train loss 1.3437, valid loss 1.5674\n",
      "Epoch 00019: reducing learning rate of group 0 to 5.0000e-05.\n",
      "Early stopping counter 3 of 10\n"
     ]
    },
    {
     "name": "stderr",
     "output_type": "stream",
     "text": [
      "222it [00:45,  4.86it/s]\n"
     ]
    },
    {
     "name": "stdout",
     "output_type": "stream",
     "text": [
      "Epoch 19, train loss 1.3257, valid loss 1.5550\n"
     ]
    },
    {
     "name": "stderr",
     "output_type": "stream",
     "text": [
      "222it [00:44,  5.03it/s]\n"
     ]
    },
    {
     "name": "stdout",
     "output_type": "stream",
     "text": [
      "Epoch 20, train loss 1.3209, valid loss 1.5612\n",
      "Early stopping counter 1 of 10\n"
     ]
    },
    {
     "name": "stderr",
     "output_type": "stream",
     "text": [
      "222it [00:44,  5.01it/s]\n"
     ]
    },
    {
     "name": "stdout",
     "output_type": "stream",
     "text": [
      "Epoch 21, train loss 1.3165, valid loss 1.5575\n",
      "Early stopping counter 2 of 10\n"
     ]
    },
    {
     "name": "stderr",
     "output_type": "stream",
     "text": [
      "222it [00:44,  4.98it/s]\n"
     ]
    },
    {
     "name": "stdout",
     "output_type": "stream",
     "text": [
      "Epoch 22, train loss 1.3102, valid loss 1.5652\n",
      "Epoch 00023: reducing learning rate of group 0 to 2.5000e-05.\n",
      "Early stopping counter 3 of 10\n"
     ]
    },
    {
     "name": "stderr",
     "output_type": "stream",
     "text": [
      "222it [00:44,  4.98it/s]\n"
     ]
    },
    {
     "name": "stdout",
     "output_type": "stream",
     "text": [
      "Epoch 23, train loss 1.3016, valid loss 1.5549\n"
     ]
    },
    {
     "name": "stderr",
     "output_type": "stream",
     "text": [
      "222it [00:44,  5.04it/s]\n"
     ]
    },
    {
     "name": "stdout",
     "output_type": "stream",
     "text": [
      "Epoch 24, train loss 1.2992, valid loss 1.5644\n",
      "Early stopping counter 1 of 10\n"
     ]
    },
    {
     "name": "stderr",
     "output_type": "stream",
     "text": [
      "222it [00:44,  5.01it/s]\n"
     ]
    },
    {
     "name": "stdout",
     "output_type": "stream",
     "text": [
      "Epoch 25, train loss 1.2962, valid loss 1.5564\n",
      "Epoch 00026: reducing learning rate of group 0 to 1.2500e-05.\n",
      "Early stopping counter 2 of 10\n"
     ]
    },
    {
     "name": "stderr",
     "output_type": "stream",
     "text": [
      "222it [00:44,  4.97it/s]\n"
     ]
    },
    {
     "name": "stdout",
     "output_type": "stream",
     "text": [
      "Epoch 26, train loss 1.2924, valid loss 1.5604\n",
      "Early stopping counter 3 of 10\n"
     ]
    },
    {
     "name": "stderr",
     "output_type": "stream",
     "text": [
      "222it [00:56,  3.95it/s]\n"
     ]
    },
    {
     "name": "stdout",
     "output_type": "stream",
     "text": [
      "Epoch 27, train loss 1.2895, valid loss 1.5623\n",
      "Early stopping counter 4 of 10\n"
     ]
    },
    {
     "name": "stderr",
     "output_type": "stream",
     "text": [
      "222it [00:59,  3.73it/s]\n"
     ]
    },
    {
     "name": "stdout",
     "output_type": "stream",
     "text": [
      "Epoch 28, train loss 1.2900, valid loss 1.5555\n",
      "Epoch 00029: reducing learning rate of group 0 to 6.2500e-06.\n",
      "Early stopping counter 5 of 10\n"
     ]
    },
    {
     "name": "stderr",
     "output_type": "stream",
     "text": [
      "222it [00:59,  3.74it/s]\n"
     ]
    },
    {
     "name": "stdout",
     "output_type": "stream",
     "text": [
      "Epoch 29, train loss 1.2859, valid loss 1.5564\n",
      "Early stopping counter 6 of 10\n"
     ]
    },
    {
     "name": "stderr",
     "output_type": "stream",
     "text": [
      "222it [00:58,  3.78it/s]\n"
     ]
    },
    {
     "name": "stdout",
     "output_type": "stream",
     "text": [
      "Epoch 30, train loss 1.2864, valid loss 1.5594\n",
      "Early stopping counter 7 of 10\n"
     ]
    },
    {
     "name": "stderr",
     "output_type": "stream",
     "text": [
      "222it [00:58,  3.79it/s]\n"
     ]
    },
    {
     "name": "stdout",
     "output_type": "stream",
     "text": [
      "Epoch 31, train loss 1.2853, valid loss 1.5549\n",
      "Epoch 00032: reducing learning rate of group 0 to 3.1250e-06.\n",
      "Early stopping counter 8 of 10\n"
     ]
    },
    {
     "name": "stderr",
     "output_type": "stream",
     "text": [
      "222it [01:00,  3.70it/s]\n"
     ]
    },
    {
     "name": "stdout",
     "output_type": "stream",
     "text": [
      "Epoch 32, train loss 1.2849, valid loss 1.5617\n",
      "Early stopping counter 9 of 10\n"
     ]
    },
    {
     "name": "stderr",
     "output_type": "stream",
     "text": [
      "222it [00:49,  4.49it/s]\n"
     ]
    },
    {
     "name": "stdout",
     "output_type": "stream",
     "text": [
      "Epoch 33, train loss 1.2847, valid loss 1.5588\n",
      "Early stopping counter 10 of 10\n",
      "Early stopping\n"
     ]
    }
   ],
   "source": [
    "system_model = GAT_system(hidden_dim, num_heads).to(device)\n",
    "\n",
    "for param in system_model.parameters():\n",
    "    param.requires_grad = True\n",
    "    \n",
    "criterion = torch.nn.CrossEntropyLoss()\n",
    "optimizer = torch.optim.Adam(system_model.parameters(), lr = 0.0001)\n",
    "lr_scheduler = LRScheduler(optimizer)\n",
    "early_stopping = EarlyStopping(10)\n",
    "\n",
    "sys_num_epochs = 100\n",
    "\n",
    "for epoch in range(sys_num_epochs):\n",
    "    train_epoch_loss = 0\n",
    "\n",
    "    for iter, (batched_graph, labels) in tqdm(enumerate(sys_train_data)):\n",
    "#         print(f\"{iter}/{len(sys_train_data)}\")\n",
    "        out = system_model(batched_graph.to(device))\n",
    "        loss = criterion(out, labels.to(device))\n",
    "        optimizer.zero_grad()\n",
    "\n",
    "        loss.backward() \n",
    "        optimizer.step() \n",
    "        train_epoch_loss += loss.detach().item()\n",
    "        \n",
    "    train_epoch_loss /= (iter + 1)\n",
    "    \n",
    "    valid_epoch_loss = 0\n",
    "    with torch.no_grad():\n",
    "        for iter, (batched_graph, labels) in enumerate(sys_valid_data):\n",
    "            out = system_model(batched_graph.to(device))\n",
    "            loss = criterion(out, labels.to(device))\n",
    "            \n",
    "            valid_epoch_loss += loss.detach().item()\n",
    "\n",
    "        valid_epoch_loss /= (iter + 1)\n",
    "\n",
    "    print(f'Epoch {epoch}, train loss {train_epoch_loss:.4f}, valid loss {valid_epoch_loss:.4f}')  \n",
    "    wandb.log({'system train loss' : train_epoch_loss, 'system valid loss' : valid_epoch_loss})\n",
    "    lr_scheduler(valid_epoch_loss)\n",
    "    early_stopping(valid_epoch_loss)\n",
    "    \n",
    "    if early_stopping.early_stop:\n",
    "        break"
   ]
  },
  {
   "cell_type": "code",
   "execution_count": 38,
   "id": "02078fdb",
   "metadata": {},
   "outputs": [],
   "source": [
    "system_model.eval()\n",
    "system_test_X, system_test_Y = map(list, zip(*sys_test_data))\n",
    "\n",
    "system_probs = []\n",
    "system_test = []\n",
    "\n",
    "for i in range(len(system_test_Y)):\n",
    "    g = system_test_X[i].to(device)\n",
    "    labels = system_test_Y[i]\n",
    "    labels = labels.tolist()\n",
    "    system_test += labels\n",
    "    system_probs_Y = torch.softmax(system_model(g), 1).tolist()\n",
    "    system_probs += system_probs_Y"
   ]
  },
  {
   "cell_type": "code",
   "execution_count": 39,
   "id": "3f8fae1c",
   "metadata": {
    "scrolled": false
   },
   "outputs": [
    {
     "name": "stdout",
     "output_type": "stream",
     "text": [
      "SYSTEM metric\n",
      "Acc@1: 0.5099656066156066\n",
      "Acc@3: 0.8220969363969364\n",
      "Acc@5: 0.9135968697968699\n",
      "Acc@10: 0.9688914196914198\n"
     ]
    }
   ],
   "source": [
    "print(\"SYSTEM metric\")\n",
    "\n",
    "print(\"Acc@1:\", get_accuracy_k(1, clusters.test_system_df, system_probs, clusters.test_dataset, 1))\n",
    "print(\"Acc@3:\", get_accuracy_k(3, clusters.test_system_df, system_probs, clusters.test_dataset, 1))\n",
    "print(\"Acc@5:\", get_accuracy_k(5, clusters.test_system_df, system_probs, clusters.test_dataset, 1))\n",
    "print(\"Acc@10:\", get_accuracy_k(10, clusters.test_system_df, system_probs, clusters.test_dataset, 1))"
   ]
  },
  {
   "cell_type": "code",
   "execution_count": 40,
   "id": "f710fe83",
   "metadata": {},
   "outputs": [
    {
     "name": "stdout",
     "output_type": "stream",
     "text": [
      "ALL metric\n",
      "Acc@1: 0.47209696553446556\n",
      "Acc@3: 0.7667846570096569\n",
      "Acc@5: 0.865893093018093\n",
      "Acc@10: 0.9463802239427239\n"
     ]
    }
   ],
   "source": [
    "print(\"ALL metric\")\n",
    "print(\"Acc@1:\", get_all_accuracy_k(1, clusters.test_user_df, clusters.test_system_df, user_probs, system_probs, clusters.test_dataset))\n",
    "print(\"Acc@3:\", get_all_accuracy_k(3, clusters.test_user_df, clusters.test_system_df, user_probs, system_probs, clusters.test_dataset))\n",
    "print(\"Acc@5:\", get_all_accuracy_k(5, clusters.test_user_df, clusters.test_system_df, user_probs, system_probs, clusters.test_dataset))\n",
    "print(\"Acc@10:\", get_all_accuracy_k(10, clusters.test_user_df, clusters.test_system_df, user_probs, system_probs, clusters.test_dataset))\n"
   ]
  },
  {
   "cell_type": "code",
   "execution_count": null,
   "id": "4599042c",
   "metadata": {},
   "outputs": [],
   "source": []
  },
  {
   "cell_type": "code",
   "execution_count": null,
   "id": "cd805778",
   "metadata": {},
   "outputs": [],
   "source": []
  }
 ],
 "metadata": {
  "kernelspec": {
   "display_name": "Python 3 (ipykernel)",
   "language": "python",
   "name": "python3"
  },
  "language_info": {
   "codemirror_mode": {
    "name": "ipython",
    "version": 3
   },
   "file_extension": ".py",
   "mimetype": "text/x-python",
   "name": "python",
   "nbconvert_exporter": "python",
   "pygments_lexer": "ipython3",
   "version": "3.9.12"
  }
 },
 "nbformat": 4,
 "nbformat_minor": 5
}
