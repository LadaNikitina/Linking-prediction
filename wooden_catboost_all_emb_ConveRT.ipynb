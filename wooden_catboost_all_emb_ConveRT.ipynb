{
 "cells": [
  {
   "cell_type": "markdown",
   "id": "726baddc",
   "metadata": {},
   "source": [
    "# Dialogue Graph Auto Construction based on data with a regular structure\n"
   ]
  },
  {
   "cell_type": "markdown",
   "id": "897de966",
   "metadata": {},
   "source": [
    "Goal: Extract regular structures from the data by building a dialogue graph\n",
    "    \n",
    "Tasks: \n",
    "* Cluster dialog data using embeddings of pre-trained models (BERT, ConveRT, S-BERT…)\n",
    "* Evaluate the quality of clustering using intent’s labeling of Multi-WoZ dataset \n",
    "* Linking clusters of dialogs using naive approaches (Estimation of Probabilities by Frequency Models)\n",
    "* Try other approaches (Deep Neural Networks) for linking clusters and improve the naive approach\n"
   ]
  },
  {
   "cell_type": "code",
   "execution_count": null,
   "id": "a72eb4a5",
   "metadata": {},
   "outputs": [],
   "source": [
    "from datasets import load_dataset\n",
    "from sklearn.cluster import KMeans\n",
    "from sklearn.decomposition import PCA\n",
    "from collections import Counter\n",
    "from catboost import CatBoostClassifier\n",
    "\n",
    "import pandas as pd\n",
    "import numpy as np\n",
    "import networkx as nx\n",
    "import torch\n",
    "import sys\n",
    "import os\n",
    "\n",
    "from wooden_functions_all_uttr_embs import get_features, get_data\n",
    "sys.path.insert(1, '/cephfs/home/ledneva/final_work/common_utils/')\n",
    "from preprocess import Clusters, get_accuracy_k, get_all_accuracy_k, get_all_accuracy_printer"
   ]
  },
  {
   "cell_type": "markdown",
   "id": "05b4db4c",
   "metadata": {},
   "source": [
    "## 1. Data loading and processing"
   ]
  },
  {
   "cell_type": "code",
   "execution_count": null,
   "id": "bdb8122a",
   "metadata": {},
   "outputs": [],
   "source": [
    "os.environ[\"CUDA_DEVICE_ORDER\"]=\"PCI_BUS_ID\"\n",
    "os.environ[\"CUDA_VISIBLE_DEVICES\"]=\"0,1,2,3\"\n",
    "print(torch.cuda.device_count())"
   ]
  },
  {
   "cell_type": "code",
   "execution_count": null,
   "id": "ab915e96",
   "metadata": {},
   "outputs": [],
   "source": [
    "first_num_clusters = 400\n",
    "second_num_clusters = 60"
   ]
  },
  {
   "cell_type": "code",
   "execution_count": null,
   "id": "6d5eff19",
   "metadata": {},
   "outputs": [],
   "source": [
    "embs_path = \"/cephfs/home/ledneva/final_work/convert_one_prev_embeddings.csv\"\n",
    "clusters = Clusters(first_num_clusters, second_num_clusters, embs_path)\n",
    "clusters.form_clusters()"
   ]
  },
  {
   "cell_type": "code",
   "execution_count": null,
   "id": "3fcb0c7d",
   "metadata": {},
   "outputs": [],
   "source": [
    "near_number = 3\n",
    "top_k = 10\n",
    "num_coords = len(clusters.user_cluster_embs[0])"
   ]
  },
  {
   "cell_type": "code",
   "execution_count": null,
   "id": "30beb68f",
   "metadata": {},
   "outputs": [],
   "source": [
    "intents = []\n",
    "\n",
    "for obj in clusters.train_dataset:\n",
    "    for x in obj['dialogue_acts']:\n",
    "        intents += x['dialog_act']['act_type'] \n",
    "        \n",
    "unique_intent = list(set(intents))\n",
    "num_intents = len(unique_intent)"
   ]
  },
  {
   "cell_type": "code",
   "execution_count": null,
   "id": "9d408f03",
   "metadata": {},
   "outputs": [],
   "source": [
    "user_features, system_features, null_features = get_features(clusters.train_user_df, \n",
    "                                                clusters.train_system_df, \n",
    "                                                clusters.train_dataset, \n",
    "                                                unique_intent, \n",
    "                                                clusters.user_cluster_embs, \n",
    "                                                clusters.system_cluster_embs, \n",
    "                                                near_number, \n",
    "                                                num_coords,\n",
    "                                                second_num_clusters)"
   ]
  },
  {
   "cell_type": "code",
   "execution_count": null,
   "id": "f4bce1c0",
   "metadata": {
    "scrolled": true
   },
   "outputs": [],
   "source": [
    "user_train_X, user_train_y, system_train_X, system_train_y = get_data(user_features, \n",
    "                                                                      system_features, \n",
    "                                                                      null_features,\n",
    "                                                                      clusters.train_user_df, \n",
    "                                                                      clusters.train_system_df, \n",
    "                                                                      clusters.train_dataset, \n",
    "                                                                      top_k, \n",
    "                                                                      second_num_clusters,\n",
    "                                                                      np.array(clusters.train_user_embs),\n",
    "                                                                      np.array(clusters.train_system_embs))"
   ]
  },
  {
   "cell_type": "code",
   "execution_count": null,
   "id": "7d99a3e3",
   "metadata": {},
   "outputs": [],
   "source": [
    "user_train_X.shape"
   ]
  },
  {
   "cell_type": "code",
   "execution_count": null,
   "id": "7ad0d95b",
   "metadata": {},
   "outputs": [],
   "source": [
    "user_test_X, user_test_y, system_test_X, system_test_y = get_data(user_features, \n",
    "                                                                  system_features, \n",
    "                                                                  null_features,\n",
    "                                                                  clusters.test_user_df, \n",
    "                                                                  clusters.test_system_df, \n",
    "                                                                  clusters.test_dataset, \n",
    "                                                                  top_k, \n",
    "                                                                  second_num_clusters,\n",
    "                                                                  np.array(clusters.test_user_embs),\n",
    "                                                                  np.array(clusters.test_system_embs))"
   ]
  },
  {
   "cell_type": "code",
   "execution_count": null,
   "id": "e1d8c258",
   "metadata": {},
   "outputs": [],
   "source": [
    "user_valid_X, user_valid_y, system_valid_X, system_valid_y = get_data(user_features, \n",
    "                                                                      system_features, \n",
    "                                                                      null_features,\n",
    "                                                                      clusters.valid_user_df, \n",
    "                                                                      clusters.valid_system_df, \n",
    "                                                                      clusters.validation_dataset, \n",
    "                                                                      top_k, \n",
    "                                                                      second_num_clusters,\n",
    "                                                                      np.array(clusters.valid_user_embs),\n",
    "                                                                      np.array(clusters.valid_system_embs))"
   ]
  },
  {
   "cell_type": "code",
   "execution_count": null,
   "id": "ca238f34",
   "metadata": {
    "scrolled": true
   },
   "outputs": [],
   "source": [
    "user_classif = CatBoostClassifier(iterations = 700, learning_rate = 0.1, random_seed = 43, loss_function = 'MultiClass', task_type = 'GPU')\n",
    "user_classif.fit(user_train_X, user_train_y, eval_set = [(user_valid_X, user_valid_y)], verbose = 10)"
   ]
  },
  {
   "cell_type": "code",
   "execution_count": null,
   "id": "e7edf5ac",
   "metadata": {
    "scrolled": true
   },
   "outputs": [],
   "source": [
    "system_classif = CatBoostClassifier(iterations = 700, learning_rate = 0.1, random_seed = 43, loss_function = 'MultiClass', task_type = 'GPU')\n",
    "system_classif.fit(system_train_X, system_train_y, eval_set = [(system_test_X, system_test_y)], verbose = 10)"
   ]
  },
  {
   "cell_type": "code",
   "execution_count": null,
   "id": "66294317",
   "metadata": {},
   "outputs": [],
   "source": [
    "test_user_pred = user_classif.predict_proba(user_test_X)\n",
    "test_sys_pred = system_classif.predict_proba(system_test_X)"
   ]
  },
  {
   "cell_type": "code",
   "execution_count": null,
   "id": "c0ee2ba5",
   "metadata": {},
   "outputs": [],
   "source": [
    "test_user_true = user_test_y['target'].tolist()\n",
    "test_sys_true = system_test_y['target'].tolist()"
   ]
  },
  {
   "cell_type": "code",
   "execution_count": null,
   "id": "04e70fd3",
   "metadata": {},
   "outputs": [],
   "source": [
    "print(\"USER metric\")\n",
    "\n",
    "print(\"Acc@1:\", get_accuracy_k(1, clusters.test_user_df, test_user_pred, clusters.test_dataset, 0))\n",
    "print(\"Acc@3:\", get_accuracy_k(3, clusters.test_user_df, test_user_pred, clusters.test_dataset, 0))\n",
    "print(\"Acc@5:\", get_accuracy_k(5, clusters.test_user_df, test_user_pred, clusters.test_dataset, 0))\n",
    "print(\"Acc@10:\", get_accuracy_k(10, clusters.test_user_df, test_user_pred, clusters.test_dataset, 0))"
   ]
  },
  {
   "cell_type": "code",
   "execution_count": null,
   "id": "ef90f4cf",
   "metadata": {},
   "outputs": [],
   "source": [
    "print(\"SYSTEM metric\")\n",
    "\n",
    "print(\"Acc@1:\", get_accuracy_k(1, clusters.test_system_df, test_sys_pred, clusters.test_dataset, 1))\n",
    "print(\"Acc@3:\", get_accuracy_k(3, clusters.test_system_df, test_sys_pred, clusters.test_dataset, 1))\n",
    "print(\"Acc@5:\", get_accuracy_k(5, clusters.test_system_df, test_sys_pred, clusters.test_dataset, 1))\n",
    "print(\"Acc@10:\", get_accuracy_k(10, clusters.test_system_df, test_sys_pred, clusters.test_dataset, 1))"
   ]
  },
  {
   "cell_type": "code",
   "execution_count": null,
   "id": "2ba4ff60",
   "metadata": {},
   "outputs": [],
   "source": [
    "print(\"ALL metric\")\n",
    "\n",
    "print(\"Acc@1:\", get_all_accuracy_k(1, clusters.test_user_df, clusters.test_system_df, test_user_pred, test_sys_pred, clusters.test_dataset))\n",
    "print(\"Acc@3:\", get_all_accuracy_k(3, clusters.test_user_df, clusters.test_system_df, test_user_pred, test_sys_pred, clusters.test_dataset))\n",
    "print(\"Acc@5:\", get_all_accuracy_k(5, clusters.test_user_df, clusters.test_system_df, test_user_pred, test_sys_pred, clusters.test_dataset))\n",
    "print(\"Acc@10:\", get_all_accuracy_k(10, clusters.test_user_df, clusters.test_system_df, test_user_pred, test_sys_pred, clusters.test_dataset))"
   ]
  }
 ],
 "metadata": {
  "kernelspec": {
   "display_name": "Python 3 (ipykernel)",
   "language": "python",
   "name": "python3"
  },
  "language_info": {
   "codemirror_mode": {
    "name": "ipython",
    "version": 3
   },
   "file_extension": ".py",
   "mimetype": "text/x-python",
   "name": "python",
   "nbconvert_exporter": "python",
   "pygments_lexer": "ipython3",
   "version": "3.9.12"
  }
 },
 "nbformat": 4,
 "nbformat_minor": 5
}
